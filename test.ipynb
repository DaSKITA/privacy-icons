{
 "cells": [
  {
   "cell_type": "code",
   "execution_count": 15,
   "metadata": {},
   "outputs": [
    {
     "name": "stdout",
     "output_type": "stream",
     "text": [
      "{\"data\":{\"TiltNodes\":{\"edges\":[{\"node\":{\"meta\":{\"name\":\"Zoom\"}}},{\"node\":{\"meta\":{\"name\":\"ZDF Mediathek\"}}},{\"node\":{\"meta\":{\"name\":\"youporn\"}}},{\"node\":{\"meta\":{\"name\":\"whatsapp\"}}},{\"node\":{\"meta\":{\"name\":\"webde\"}}},{\"node\":{\"meta\":{\"name\":\"vw\"}}},{\"node\":{\"meta\":{\"name\":\"viessmann\"}}},{\"node\":{\"meta\":{\"name\":\"vinci\"}}},{\"node\":{\"meta\":{\"name\":\"verivox\"}}},{\"node\":{\"meta\":{\"name\":\"Twitter\"}}},{\"node\":{\"meta\":{\"name\":\"Twitch\"}}},{\"node\":{\"meta\":{\"name\":\"TU Berlin\"}}},{\"node\":{\"meta\":{\"name\":\"techniker krankenkasse\"}}},{\"node\":{\"meta\":{\"name\":\"tesco\"}}},{\"node\":{\"meta\":{\"name\":\"Telegram\"}}},{\"node\":{\"meta\":{\"name\":\"telefonica\"}}},{\"node\":{\"meta\":{\"name\":\"takeda\"}}},{\"node\":{\"meta\":{\"name\":\"Tagesschau App\"}}},{\"node\":{\"meta\":{\"name\":\"stihl\"}}},{\"node\":{\"meta\":{\"name\":\"Spiegel Online\"}}}]}}}\n"
     ]
    }
   ],
   "source": [
    "from graphqlclient import GraphQLClient\n",
    "\n",
    "client = GraphQLClient('http://ec2-3-64-237-95.eu-central-1.compute.amazonaws.com:8082/')\n",
    "\n",
    "result = client.execute('''\n",
    "query {\n",
    "  TiltNodes{\n",
    "    edges {\n",
    "      node {\n",
    "        meta {\n",
    "          name\n",
    "        }\n",
    "      }\n",
    "    }\n",
    "  }\n",
    "}\n",
    "''')\n",
    "\n",
    "print(result)\n"
   ]
  },
  {
   "cell_type": "markdown",
   "metadata": {},
   "source": []
  }
 ],
 "metadata": {
  "interpreter": {
   "hash": "98a2b17e149e4e8a0b6acf04d01298b022c80a24b0767a95d910142ef5b4f869"
  },
  "kernelspec": {
   "display_name": "Python 3.8.5 ('base')",
   "language": "python",
   "name": "python3"
  },
  "language_info": {
   "codemirror_mode": {
    "name": "ipython",
    "version": 3
   },
   "file_extension": ".py",
   "mimetype": "text/x-python",
   "name": "python",
   "nbconvert_exporter": "python",
   "pygments_lexer": "ipython3",
   "version": "3.8.5"
  },
  "orig_nbformat": 4
 },
 "nbformat": 4,
 "nbformat_minor": 2
}
