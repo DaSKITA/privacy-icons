{
 "cells": [
  {
   "cell_type": "code",
   "execution_count": 3,
   "metadata": {},
   "outputs": [],
   "source": [
    "from tilt import tilt"
   ]
  },
  {
   "cell_type": "code",
   "execution_count": 4,
   "metadata": {},
   "outputs": [
    {
     "name": "stdout",
     "output_type": "stream",
     "text": [
      "{'address': 'Testing Lane', 'country': 'DE', 'email': 'test@thetest.com', 'name': 'Test Name', 'phone': '0142 349222'}\n",
      "{'address': 'Straße des 17. Juni', 'country': 'DE', 'division': 'Main', 'name': 'TheTest', 'representative': {'email': 'super@thetest.com', 'name': 'Super Tester', 'phone': None}}\n"
     ]
    }
   ],
   "source": [
    "dpo = tilt.DataProtectionOfficer(name='Test Name', address='Testing Lane', country='DE', email='test@thetest.com', phone='0142 349222')\n",
    "print(dpo.to_dict())\n",
    "\n",
    "r = tilt.ControllerRepresentative(name='Super Tester', email='super@thetest.com', phone=None)\n",
    "c = tilt.Controller(name='TheTest', address='Straße des 17. Juni', country='DE', division='Main', representative=r)\n",
    "print(c.to_dict())"
   ]
  },
  {
   "cell_type": "code",
   "execution_count": 8,
   "metadata": {},
   "outputs": [
    {
     "name": "stdout",
     "output_type": "stream",
     "text": [
      "{'_hash': '47629028c452ef3ccb0d87f1095ba0dd46bb5a61601c88402d21e5569190e291', '_id': 'johannesTests', 'created': '2022-05-12T16:17:39.426097', 'language': 'en', 'modified': '2022-05-12T16:17:39.426158', 'name': 'TheTest', 'status': 'active', 'url': 'https://thetestcompany.com/', 'version': 42}\n"
     ]
    }
   ],
   "source": [
    "from hashlib import sha256\n",
    "from datetime import datetime\n",
    "\n",
    "result = {}\n",
    "result[\"_hash\"] = sha256('TheTest'.encode('utf-8')).hexdigest()\n",
    "result[\"_id\"] = 'johannesTests'\n",
    "result[\"created\"] = datetime.now().isoformat()\n",
    "result[\"language\"] = 'en'\n",
    "result[\"modified\"] = datetime.now().isoformat()\n",
    "result[\"name\"] = 'TheTest'\n",
    "result[\"status\"] = 'active'\n",
    "result[\"url\"] = 'https://thetestcompany.com/'\n",
    "result[\"version\"] = 42\n",
    "\n",
    "meta = tilt.Meta.from_dict(result)\n",
    "\n",
    "print(meta.to_dict())"
   ]
  },
  {
   "cell_type": "code",
   "execution_count": null,
   "metadata": {},
   "outputs": [],
   "source": []
  }
 ],
 "metadata": {
  "interpreter": {
   "hash": "98a2b17e149e4e8a0b6acf04d01298b022c80a24b0767a95d910142ef5b4f869"
  },
  "kernelspec": {
   "display_name": "Python 3.8.5 ('base')",
   "language": "python",
   "name": "python3"
  },
  "language_info": {
   "codemirror_mode": {
    "name": "ipython",
    "version": 3
   },
   "file_extension": ".py",
   "mimetype": "text/x-python",
   "name": "python",
   "nbconvert_exporter": "python",
   "pygments_lexer": "ipython3",
   "version": "3.8.5"
  },
  "orig_nbformat": 4
 },
 "nbformat": 4,
 "nbformat_minor": 2
}
